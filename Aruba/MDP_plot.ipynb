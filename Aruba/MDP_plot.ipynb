{
 "cells": [
  {
   "cell_type": "code",
   "execution_count": 2,
   "metadata": {},
   "outputs": [],
   "source": [
    "import numpy as np\n",
    "import pandas as pd\n",
    "import matplotlib.pyplot as plt"
   ]
  },
  {
   "cell_type": "code",
   "execution_count": 2,
   "metadata": {},
   "outputs": [
    {
     "data": {
      "text/plain": [
       "{'Sleeping': 0,\n",
       " 'Other': 1,\n",
       " 'Bed_to_Toilet': 2,\n",
       " 'Meal_Preparation': 3,\n",
       " 'Relax': 4,\n",
       " 'Housekeeping': 5,\n",
       " 'Eating': 6,\n",
       " 'Wash_Dishes': 7,\n",
       " 'Leave_Home': 8,\n",
       " 'Enter_Home': 9,\n",
       " 'Work': 10,\n",
       " 'Respirate': 11}"
      ]
     },
     "execution_count": 2,
     "metadata": {},
     "output_type": "execute_result"
    }
   ],
   "source": [
    "{'Sleeping': 0, 'Other': 1, 'Bed_to_Toilet': 2, 'Meal_Preparation': 3, 'Relax': 4, 'Housekeeping': 5, 'Eating': 6, 'Wash_Dishes': 7, 'Leave_Home': 8, 'Enter_Home': 9, 'Work': 10, 'Respirate': 11}"
   ]
  },
  {
   "cell_type": "code",
   "execution_count": 2,
   "metadata": {},
   "outputs": [],
   "source": [
    "x = np.load(r'/Users/zehaokou/Desktop/Technion/AI/plot/new_processing/step1_state_index.npy',allow_pickle=True)\n",
    "#x = x.astype(int)\n",
    "y = np.load(r'/Users/zehaokou/Desktop/Technion/AI/plot/new_processing/step1_padding100/new_processing_100_padded_step1_Y.npy',allow_pickle=True)\n",
    "y = y.astype(str)"
   ]
  },
  {
   "cell_type": "code",
   "execution_count": 3,
   "metadata": {},
   "outputs": [],
   "source": [
    "activity8 = []\n",
    "for i in range(np.size(y)):\n",
    "    if y[i] == '8':\n",
    "        activity8.append(i)\n",
    "        \n",
    "activity9 = []\n",
    "for i in range(np.size(y)):\n",
    "    if y[i] == '9':\n",
    "        activity9.append(i)"
   ]
  },
  {
   "cell_type": "code",
   "execution_count": 4,
   "metadata": {},
   "outputs": [],
   "source": [
    "result = []\n",
    "enter_count = 0\n",
    "leave_count = 0\n",
    "\n",
    "for i in range(430):\n",
    "    not_nan_count_leave = np.sum(~np.isnan(x[activity8[i]-1]))\n",
    "    leave = np.sum(~np.isnan(x[activity8[i]]))\n",
    "    # print(not_nan_count_leave)\n",
    "    result.append({'St-1':'other', 'Lt-1':not_nan_count_leave, 'St':'leave home'})\n",
    "    leave_count += 1\n",
    "\n",
    "    not_nan_count_enter = np.sum(~np.isnan(x[activity9[i]-1]))\n",
    "    enter = np.sum(~np.isnan(x[activity9[i]]))\n",
    "    # print(not_nan_count_enter)\n",
    "    result.append({'St-1':'other', 'Lt-1':not_nan_count_enter, 'St':'enter home'})\n",
    "    enter_count += 1"
   ]
  },
  {
   "cell_type": "code",
   "execution_count": 118,
   "metadata": {},
   "outputs": [
    {
     "data": {
      "text/html": [
       "<div>\n",
       "<style scoped>\n",
       "    .dataframe tbody tr th:only-of-type {\n",
       "        vertical-align: middle;\n",
       "    }\n",
       "\n",
       "    .dataframe tbody tr th {\n",
       "        vertical-align: top;\n",
       "    }\n",
       "\n",
       "    .dataframe thead th {\n",
       "        text-align: right;\n",
       "    }\n",
       "</style>\n",
       "<table border=\"1\" class=\"dataframe\">\n",
       "  <thead>\n",
       "    <tr style=\"text-align: right;\">\n",
       "      <th></th>\n",
       "      <th>St-1</th>\n",
       "      <th>Lt-1</th>\n",
       "      <th>St</th>\n",
       "    </tr>\n",
       "  </thead>\n",
       "  <tbody>\n",
       "    <tr>\n",
       "      <th>0</th>\n",
       "      <td>other</td>\n",
       "      <td>100</td>\n",
       "      <td>leave home</td>\n",
       "    </tr>\n",
       "    <tr>\n",
       "      <th>1</th>\n",
       "      <td>other</td>\n",
       "      <td>1</td>\n",
       "      <td>enter home</td>\n",
       "    </tr>\n",
       "    <tr>\n",
       "      <th>2</th>\n",
       "      <td>other</td>\n",
       "      <td>10</td>\n",
       "      <td>leave home</td>\n",
       "    </tr>\n",
       "    <tr>\n",
       "      <th>3</th>\n",
       "      <td>other</td>\n",
       "      <td>1</td>\n",
       "      <td>enter home</td>\n",
       "    </tr>\n",
       "    <tr>\n",
       "      <th>4</th>\n",
       "      <td>other</td>\n",
       "      <td>41</td>\n",
       "      <td>leave home</td>\n",
       "    </tr>\n",
       "    <tr>\n",
       "      <th>...</th>\n",
       "      <td>...</td>\n",
       "      <td>...</td>\n",
       "      <td>...</td>\n",
       "    </tr>\n",
       "    <tr>\n",
       "      <th>855</th>\n",
       "      <td>other</td>\n",
       "      <td>2</td>\n",
       "      <td>enter home</td>\n",
       "    </tr>\n",
       "    <tr>\n",
       "      <th>856</th>\n",
       "      <td>other</td>\n",
       "      <td>11</td>\n",
       "      <td>leave home</td>\n",
       "    </tr>\n",
       "    <tr>\n",
       "      <th>857</th>\n",
       "      <td>other</td>\n",
       "      <td>1</td>\n",
       "      <td>enter home</td>\n",
       "    </tr>\n",
       "    <tr>\n",
       "      <th>858</th>\n",
       "      <td>other</td>\n",
       "      <td>100</td>\n",
       "      <td>leave home</td>\n",
       "    </tr>\n",
       "    <tr>\n",
       "      <th>859</th>\n",
       "      <td>other</td>\n",
       "      <td>1</td>\n",
       "      <td>enter home</td>\n",
       "    </tr>\n",
       "  </tbody>\n",
       "</table>\n",
       "<p>860 rows × 3 columns</p>\n",
       "</div>"
      ],
      "text/plain": [
       "      St-1  Lt-1          St\n",
       "0    other   100  leave home\n",
       "1    other     1  enter home\n",
       "2    other    10  leave home\n",
       "3    other     1  enter home\n",
       "4    other    41  leave home\n",
       "..     ...   ...         ...\n",
       "855  other     2  enter home\n",
       "856  other    11  leave home\n",
       "857  other     1  enter home\n",
       "858  other   100  leave home\n",
       "859  other     1  enter home\n",
       "\n",
       "[860 rows x 3 columns]"
      ]
     },
     "execution_count": 118,
     "metadata": {},
     "output_type": "execute_result"
    }
   ],
   "source": [
    "df = pd.DataFrame(result)\n",
    "df"
   ]
  },
  {
   "cell_type": "code",
   "execution_count": 119,
   "metadata": {},
   "outputs": [
    {
     "data": {
      "text/html": [
       "<div>\n",
       "<style scoped>\n",
       "    .dataframe tbody tr th:only-of-type {\n",
       "        vertical-align: middle;\n",
       "    }\n",
       "\n",
       "    .dataframe tbody tr th {\n",
       "        vertical-align: top;\n",
       "    }\n",
       "\n",
       "    .dataframe thead th {\n",
       "        text-align: right;\n",
       "    }\n",
       "</style>\n",
       "<table border=\"1\" class=\"dataframe\">\n",
       "  <thead>\n",
       "    <tr style=\"text-align: right;\">\n",
       "      <th></th>\n",
       "      <th>St-1</th>\n",
       "      <th>Lt-1</th>\n",
       "      <th>St</th>\n",
       "    </tr>\n",
       "  </thead>\n",
       "  <tbody>\n",
       "    <tr>\n",
       "      <th>0</th>\n",
       "      <td>other</td>\n",
       "      <td>100</td>\n",
       "      <td>0</td>\n",
       "    </tr>\n",
       "    <tr>\n",
       "      <th>1</th>\n",
       "      <td>other</td>\n",
       "      <td>1</td>\n",
       "      <td>1</td>\n",
       "    </tr>\n",
       "    <tr>\n",
       "      <th>2</th>\n",
       "      <td>other</td>\n",
       "      <td>10</td>\n",
       "      <td>0</td>\n",
       "    </tr>\n",
       "    <tr>\n",
       "      <th>3</th>\n",
       "      <td>other</td>\n",
       "      <td>1</td>\n",
       "      <td>1</td>\n",
       "    </tr>\n",
       "    <tr>\n",
       "      <th>4</th>\n",
       "      <td>other</td>\n",
       "      <td>41</td>\n",
       "      <td>0</td>\n",
       "    </tr>\n",
       "    <tr>\n",
       "      <th>...</th>\n",
       "      <td>...</td>\n",
       "      <td>...</td>\n",
       "      <td>...</td>\n",
       "    </tr>\n",
       "    <tr>\n",
       "      <th>855</th>\n",
       "      <td>other</td>\n",
       "      <td>2</td>\n",
       "      <td>1</td>\n",
       "    </tr>\n",
       "    <tr>\n",
       "      <th>856</th>\n",
       "      <td>other</td>\n",
       "      <td>11</td>\n",
       "      <td>0</td>\n",
       "    </tr>\n",
       "    <tr>\n",
       "      <th>857</th>\n",
       "      <td>other</td>\n",
       "      <td>1</td>\n",
       "      <td>1</td>\n",
       "    </tr>\n",
       "    <tr>\n",
       "      <th>858</th>\n",
       "      <td>other</td>\n",
       "      <td>100</td>\n",
       "      <td>0</td>\n",
       "    </tr>\n",
       "    <tr>\n",
       "      <th>859</th>\n",
       "      <td>other</td>\n",
       "      <td>1</td>\n",
       "      <td>1</td>\n",
       "    </tr>\n",
       "  </tbody>\n",
       "</table>\n",
       "<p>860 rows × 3 columns</p>\n",
       "</div>"
      ],
      "text/plain": [
       "      St-1  Lt-1  St\n",
       "0    other   100   0\n",
       "1    other     1   1\n",
       "2    other    10   0\n",
       "3    other     1   1\n",
       "4    other    41   0\n",
       "..     ...   ...  ..\n",
       "855  other     2   1\n",
       "856  other    11   0\n",
       "857  other     1   1\n",
       "858  other   100   0\n",
       "859  other     1   1\n",
       "\n",
       "[860 rows x 3 columns]"
      ]
     },
     "execution_count": 119,
     "metadata": {},
     "output_type": "execute_result"
    }
   ],
   "source": [
    "# leave = 1 则计算leave的Transition Probability\n",
    "# df['St'] = df['St'].replace({'leave home': 1, 'enter home': 0})\n",
    "df['St'] = df['St'].replace({'leave home': 0, 'enter home': 1})\n",
    "df"
   ]
  },
  {
   "cell_type": "code",
   "execution_count": null,
   "metadata": {},
   "outputs": [
    {
     "name": "stdout",
     "output_type": "stream",
     "text": [
      "43.12093023255814\n"
     ]
    },
    {
     "data": {
      "text/html": [
       "<div>\n",
       "<style scoped>\n",
       "    .dataframe tbody tr th:only-of-type {\n",
       "        vertical-align: middle;\n",
       "    }\n",
       "\n",
       "    .dataframe tbody tr th {\n",
       "        vertical-align: top;\n",
       "    }\n",
       "\n",
       "    .dataframe thead th {\n",
       "        text-align: right;\n",
       "    }\n",
       "</style>\n",
       "<table border=\"1\" class=\"dataframe\">\n",
       "  <thead>\n",
       "    <tr style=\"text-align: right;\">\n",
       "      <th></th>\n",
       "      <th>St-1</th>\n",
       "      <th>Lt-1</th>\n",
       "      <th>St</th>\n",
       "      <th>Lt-1 - L_mean</th>\n",
       "      <th>St - P_mean</th>\n",
       "      <th>product</th>\n",
       "      <th>square</th>\n",
       "    </tr>\n",
       "  </thead>\n",
       "  <tbody>\n",
       "    <tr>\n",
       "      <th>0</th>\n",
       "      <td>other</td>\n",
       "      <td>100</td>\n",
       "      <td>0</td>\n",
       "      <td>56.87907</td>\n",
       "      <td>-0.5</td>\n",
       "      <td>-28.439535</td>\n",
       "      <td>3235.228578</td>\n",
       "    </tr>\n",
       "    <tr>\n",
       "      <th>1</th>\n",
       "      <td>other</td>\n",
       "      <td>1</td>\n",
       "      <td>1</td>\n",
       "      <td>-42.12093</td>\n",
       "      <td>0.5</td>\n",
       "      <td>-21.060465</td>\n",
       "      <td>1774.172764</td>\n",
       "    </tr>\n",
       "    <tr>\n",
       "      <th>2</th>\n",
       "      <td>other</td>\n",
       "      <td>10</td>\n",
       "      <td>0</td>\n",
       "      <td>-33.12093</td>\n",
       "      <td>-0.5</td>\n",
       "      <td>16.560465</td>\n",
       "      <td>1096.996019</td>\n",
       "    </tr>\n",
       "    <tr>\n",
       "      <th>3</th>\n",
       "      <td>other</td>\n",
       "      <td>1</td>\n",
       "      <td>1</td>\n",
       "      <td>-42.12093</td>\n",
       "      <td>0.5</td>\n",
       "      <td>-21.060465</td>\n",
       "      <td>1774.172764</td>\n",
       "    </tr>\n",
       "    <tr>\n",
       "      <th>4</th>\n",
       "      <td>other</td>\n",
       "      <td>41</td>\n",
       "      <td>0</td>\n",
       "      <td>-2.12093</td>\n",
       "      <td>-0.5</td>\n",
       "      <td>1.060465</td>\n",
       "      <td>4.498345</td>\n",
       "    </tr>\n",
       "    <tr>\n",
       "      <th>...</th>\n",
       "      <td>...</td>\n",
       "      <td>...</td>\n",
       "      <td>...</td>\n",
       "      <td>...</td>\n",
       "      <td>...</td>\n",
       "      <td>...</td>\n",
       "      <td>...</td>\n",
       "    </tr>\n",
       "    <tr>\n",
       "      <th>855</th>\n",
       "      <td>other</td>\n",
       "      <td>2</td>\n",
       "      <td>1</td>\n",
       "      <td>-41.12093</td>\n",
       "      <td>0.5</td>\n",
       "      <td>-20.560465</td>\n",
       "      <td>1690.930903</td>\n",
       "    </tr>\n",
       "    <tr>\n",
       "      <th>856</th>\n",
       "      <td>other</td>\n",
       "      <td>11</td>\n",
       "      <td>0</td>\n",
       "      <td>-32.12093</td>\n",
       "      <td>-0.5</td>\n",
       "      <td>16.060465</td>\n",
       "      <td>1031.754159</td>\n",
       "    </tr>\n",
       "    <tr>\n",
       "      <th>857</th>\n",
       "      <td>other</td>\n",
       "      <td>1</td>\n",
       "      <td>1</td>\n",
       "      <td>-42.12093</td>\n",
       "      <td>0.5</td>\n",
       "      <td>-21.060465</td>\n",
       "      <td>1774.172764</td>\n",
       "    </tr>\n",
       "    <tr>\n",
       "      <th>858</th>\n",
       "      <td>other</td>\n",
       "      <td>100</td>\n",
       "      <td>0</td>\n",
       "      <td>56.87907</td>\n",
       "      <td>-0.5</td>\n",
       "      <td>-28.439535</td>\n",
       "      <td>3235.228578</td>\n",
       "    </tr>\n",
       "    <tr>\n",
       "      <th>859</th>\n",
       "      <td>other</td>\n",
       "      <td>1</td>\n",
       "      <td>1</td>\n",
       "      <td>-42.12093</td>\n",
       "      <td>0.5</td>\n",
       "      <td>-21.060465</td>\n",
       "      <td>1774.172764</td>\n",
       "    </tr>\n",
       "  </tbody>\n",
       "</table>\n",
       "<p>860 rows × 7 columns</p>\n",
       "</div>"
      ],
      "text/plain": [
       "      St-1  Lt-1  St  Lt-1 - L_mean  St - P_mean    product       square\n",
       "0    other   100   0       56.87907         -0.5 -28.439535  3235.228578\n",
       "1    other     1   1      -42.12093          0.5 -21.060465  1774.172764\n",
       "2    other    10   0      -33.12093         -0.5  16.560465  1096.996019\n",
       "3    other     1   1      -42.12093          0.5 -21.060465  1774.172764\n",
       "4    other    41   0       -2.12093         -0.5   1.060465     4.498345\n",
       "..     ...   ...  ..            ...          ...        ...          ...\n",
       "855  other     2   1      -41.12093          0.5 -20.560465  1690.930903\n",
       "856  other    11   0      -32.12093         -0.5  16.060465  1031.754159\n",
       "857  other     1   1      -42.12093          0.5 -21.060465  1774.172764\n",
       "858  other   100   0       56.87907         -0.5 -28.439535  3235.228578\n",
       "859  other     1   1      -42.12093          0.5 -21.060465  1774.172764\n",
       "\n",
       "[860 rows x 7 columns]"
      ]
     },
     "execution_count": 120,
     "metadata": {},
     "output_type": "execute_result"
    }
   ],
   "source": [
    "L_mean = df['Lt-1'].sum()/860\n",
    "print(L_mean)\n",
    "P_mean = 0.5\n",
    "\n",
    "# each value minus the mean\n",
    "df['Lt-1 - L_mean'] = df['Lt-1'] - L_mean\n",
    "df['St - P_mean'] = df['St'] - P_mean\n",
    "df['product'] = df['Lt-1 - L_mean'] * df['St - P_mean']\n",
    "df['square'] = df['Lt-1 - L_mean']**2\n",
    "df"
   ]
  },
  {
   "cell_type": "code",
   "execution_count": 121,
   "metadata": {},
   "outputs": [
    {
     "data": {
      "text/plain": [
       "-0.009833635732615876"
      ]
     },
     "execution_count": 121,
     "metadata": {},
     "output_type": "execute_result"
    }
   ],
   "source": [
    "alpha = df['product'].sum()/df['square'].sum()\n",
    "alpha"
   ]
  },
  {
   "cell_type": "code",
   "execution_count": 122,
   "metadata": {},
   "outputs": [
    {
     "data": {
      "text/plain": [
       "0.92403552035852"
      ]
     },
     "execution_count": 122,
     "metadata": {},
     "output_type": "execute_result"
    }
   ],
   "source": [
    "beta = P_mean - alpha * L_mean\n",
    "beta"
   ]
  },
  {
   "cell_type": "code",
   "execution_count": 115,
   "metadata": {},
   "outputs": [
    {
     "data": {
      "text/plain": [
       "0      1.059328\n",
       "1      0.085798\n",
       "2      0.174301\n",
       "3      0.085798\n",
       "4      0.479144\n",
       "         ...   \n",
       "855    0.095632\n",
       "856    0.184134\n",
       "857    0.085798\n",
       "858    1.059328\n",
       "859    0.085798\n",
       "Name: Lt-1, Length: 860, dtype: float64"
      ]
     },
     "execution_count": 115,
     "metadata": {},
     "output_type": "execute_result"
    }
   ],
   "source": [
    "# P_LEAVE = 0.00983 * df['Lt-1'] + 0.07596\n",
    "# P_ENTER = -0.00983 * df['Lt-1'] + 0.92404"
   ]
  },
  {
   "cell_type": "code",
   "execution_count": null,
   "metadata": {},
   "outputs": [
    {
     "data": {
      "image/png": "[encoded data removed]",
      "text/plain": [
       "<Figure size 1000x600 with 1 Axes>"
      ]
     },
     "metadata": {},
     "output_type": "display_data"
    }
   ],
   "source": [
    "x[x < 0.2] = np.nan\n",
    "\n",
    "activity8 = [i for i in range(np.size(y)) if y[i] == '8']\n",
    "activity9 = [i for i in range(np.size(y)) if y[i] == '9']\n",
    "\n",
    "# Calculate non-NaN counts for activity8 (leave home) and activity9 (enter home)\n",
    "not_nan_counts_leave = [np.sum(~np.isnan(x[activity8[i] - 1])) for i in range(min(430, len(activity8)))]\n",
    "not_nan_counts_enter = [np.sum(~np.isnan(x[activity9[i] - 1])) for i in range(min(430, len(activity9)))]\n",
    "\n",
    "# Create scatter plot to intuitively represent the lengths\n",
    "plt.figure(figsize=(10, 6))\n",
    "plt.scatter(range(len(not_nan_counts_leave)), not_nan_counts_leave, label=\"Before Leave Home\", alpha=0.7, marker='o')\n",
    "plt.scatter(range(len(not_nan_counts_enter)), not_nan_counts_enter, label=\"Before Enter Home\", alpha=0.7, marker='x')\n",
    "\n",
    "plt.title(\"Length of Activities Before 'Enter Home' and 'Leave Home'\", fontsize=14)\n",
    "plt.xlabel(\"Index\", fontsize=12)\n",
    "plt.ylabel(\"Activity Length\", fontsize=12)\n",
    "plt.legend(fontsize=12)\n",
    "plt.grid(True, linestyle='--', alpha=0.6)\n",
    "\n",
    "plt.savefig('enter_leave.svg')\n",
    "plt.show()"
   ]
  },
  {
   "cell_type": "markdown",
   "metadata": {},
   "source": [
    "# logistic regression"
   ]
  },
  {
   "cell_type": "markdown",
   "metadata": {},
   "source": [
    "## aruba"
   ]
  },
  {
   "cell_type": "code",
   "execution_count": 68,
   "metadata": {},
   "outputs": [],
   "source": [
    "x = np.load(r'/Users/zehaokou/Desktop/Technion/AI/plot/new_processing/step1_state_index.npy',allow_pickle=True)\n",
    "y = np.load(r'/Users/zehaokou/Desktop/Technion/AI/plot/new_processing/step1_padding100/new_processing_100_padded_step1_Y.npy',allow_pickle=True)\n",
    "y = y.astype(str)\n",
    "\n",
    "activity8 = []\n",
    "for i in range(np.size(y)):\n",
    "    if y[i] == '8':\n",
    "        activity8.append(i)\n",
    "        \n",
    "activity9 = []\n",
    "for i in range(np.size(y)):\n",
    "    if y[i] == '9':\n",
    "        activity9.append(i)"
   ]
  },
  {
   "cell_type": "code",
   "execution_count": 69,
   "metadata": {},
   "outputs": [],
   "source": [
    "result = []\n",
    "enter_count = 0\n",
    "leave_count = 0\n",
    "\n",
    "for i in range(430):\n",
    "    not_nan_count_leave = np.sum(~np.isnan(x[activity8[i]-1]))\n",
    "    leave = np.sum(~np.isnan(x[activity8[i]]))\n",
    "    # print(not_nan_count_leave)\n",
    "    result.append({'St-1':'other', 'Lt-1':not_nan_count_leave, 'St':'leave home'})\n",
    "    leave_count += 1\n",
    "\n",
    "    not_nan_count_enter = np.sum(~np.isnan(x[activity9[i]-1]))\n",
    "    enter = np.sum(~np.isnan(x[activity9[i]]))\n",
    "    # print(not_nan_count_enter)\n",
    "    result.append({'St-1':'other', 'Lt-1':not_nan_count_enter, 'St':'enter home'})\n",
    "    enter_count += 1"
   ]
  },
  {
   "cell_type": "code",
   "execution_count": 70,
   "metadata": {},
   "outputs": [
    {
     "name": "stderr",
     "output_type": "stream",
     "text": [
      "/var/folders/p7/20f7xrt504ncpy6nhf4tjw480000gn/T/ipykernel_9300/1181091385.py:2: FutureWarning: Downcasting behavior in `replace` is deprecated and will be removed in a future version. To retain the old behavior, explicitly call `result.infer_objects(copy=False)`. To opt-in to the future behavior, set `pd.set_option('future.no_silent_downcasting', True)`\n",
      "  df['St'] = df['St'].replace({'leave home': 1, 'enter home': 0})\n"
     ]
    },
    {
     "data": {
      "application/vnd.microsoft.datawrangler.viewer.v0+json": {
       "columns": [
        {
         "name": "index",
         "rawType": "int64",
         "type": "integer"
        },
        {
         "name": "St-1",
         "rawType": "object",
         "type": "string"
        },
        {
         "name": "Lt-1",
         "rawType": "int64",
         "type": "integer"
        },
        {
         "name": "St",
         "rawType": "int64",
         "type": "integer"
        }
       ],
       "conversionMethod": "pd.DataFrame",
       "ref": "dc3bb7d1-b0f5-47ff-a85b-538051c967e7",
       "rows": [
        [
         "0",
         "other",
         "100",
         "1"
        ],
        [
         "1",
         "other",
         "1",
         "0"
        ],
        [
         "2",
         "other",
         "10",
         "1"
        ],
        [
         "3",
         "other",
         "1",
         "0"
        ],
        [
         "4",
         "other",
         "41",
         "1"
        ],
        [
         "5",
         "other",
         "1",
         "0"
        ],
        [
         "6",
         "other",
         "100",
         "1"
        ],
        [
         "7",
         "other",
         "7",
         "0"
        ],
        [
         "8",
         "other",
         "100",
         "1"
        ],
        [
         "9",
         "other",
         "1",
         "0"
        ],
        [
         "10",
         "other",
         "80",
         "1"
        ],
        [
         "11",
         "other",
         "1",
         "0"
        ],
        [
         "12",
         "other",
         "84",
         "1"
        ],
        [
         "13",
         "other",
         "2",
         "0"
        ],
        [
         "14",
         "other",
         "9",
         "1"
        ],
        [
         "15",
         "other",
         "1",
         "0"
        ],
        [
         "16",
         "other",
         "92",
         "1"
        ],
        [
         "17",
         "other",
         "1",
         "0"
        ],
        [
         "18",
         "other",
         "100",
         "1"
        ],
        [
         "19",
         "other",
         "1",
         "0"
        ],
        [
         "20",
         "other",
         "59",
         "1"
        ],
        [
         "21",
         "other",
         "1",
         "0"
        ],
        [
         "22",
         "other",
         "98",
         "1"
        ],
        [
         "23",
         "other",
         "1",
         "0"
        ],
        [
         "24",
         "other",
         "9",
         "1"
        ],
        [
         "25",
         "other",
         "1",
         "0"
        ],
        [
         "26",
         "other",
         "12",
         "1"
        ],
        [
         "27",
         "other",
         "2",
         "0"
        ],
        [
         "28",
         "other",
         "72",
         "1"
        ],
        [
         "29",
         "other",
         "1",
         "0"
        ],
        [
         "30",
         "other",
         "100",
         "1"
        ],
        [
         "31",
         "other",
         "1",
         "0"
        ],
        [
         "32",
         "other",
         "45",
         "1"
        ],
        [
         "33",
         "other",
         "1",
         "0"
        ],
        [
         "34",
         "other",
         "93",
         "1"
        ],
        [
         "35",
         "other",
         "1",
         "0"
        ],
        [
         "36",
         "other",
         "96",
         "1"
        ],
        [
         "37",
         "other",
         "1",
         "0"
        ],
        [
         "38",
         "other",
         "100",
         "1"
        ],
        [
         "39",
         "other",
         "1",
         "0"
        ],
        [
         "40",
         "other",
         "100",
         "1"
        ],
        [
         "41",
         "other",
         "1",
         "0"
        ],
        [
         "42",
         "other",
         "93",
         "1"
        ],
        [
         "43",
         "other",
         "1",
         "0"
        ],
        [
         "44",
         "other",
         "100",
         "1"
        ],
        [
         "45",
         "other",
         "1",
         "0"
        ],
        [
         "46",
         "other",
         "9",
         "1"
        ],
        [
         "47",
         "other",
         "1",
         "0"
        ],
        [
         "48",
         "other",
         "100",
         "1"
        ],
        [
         "49",
         "other",
         "1",
         "0"
        ]
       ],
       "shape": {
        "columns": 3,
        "rows": 860
       }
      },
      "text/html": [
       "<div>\n",
       "<style scoped>\n",
       "    .dataframe tbody tr th:only-of-type {\n",
       "        vertical-align: middle;\n",
       "    }\n",
       "\n",
       "    .dataframe tbody tr th {\n",
       "        vertical-align: top;\n",
       "    }\n",
       "\n",
       "    .dataframe thead th {\n",
       "        text-align: right;\n",
       "    }\n",
       "</style>\n",
       "<table border=\"1\" class=\"dataframe\">\n",
       "  <thead>\n",
       "    <tr style=\"text-align: right;\">\n",
       "      <th></th>\n",
       "      <th>St-1</th>\n",
       "      <th>Lt-1</th>\n",
       "      <th>St</th>\n",
       "    </tr>\n",
       "  </thead>\n",
       "  <tbody>\n",
       "    <tr>\n",
       "      <th>0</th>\n",
       "      <td>other</td>\n",
       "      <td>100</td>\n",
       "      <td>1</td>\n",
       "    </tr>\n",
       "    <tr>\n",
       "      <th>1</th>\n",
       "      <td>other</td>\n",
       "      <td>1</td>\n",
       "      <td>0</td>\n",
       "    </tr>\n",
       "    <tr>\n",
       "      <th>2</th>\n",
       "      <td>other</td>\n",
       "      <td>10</td>\n",
       "      <td>1</td>\n",
       "    </tr>\n",
       "    <tr>\n",
       "      <th>3</th>\n",
       "      <td>other</td>\n",
       "      <td>1</td>\n",
       "      <td>0</td>\n",
       "    </tr>\n",
       "    <tr>\n",
       "      <th>4</th>\n",
       "      <td>other</td>\n",
       "      <td>41</td>\n",
       "      <td>1</td>\n",
       "    </tr>\n",
       "    <tr>\n",
       "      <th>...</th>\n",
       "      <td>...</td>\n",
       "      <td>...</td>\n",
       "      <td>...</td>\n",
       "    </tr>\n",
       "    <tr>\n",
       "      <th>855</th>\n",
       "      <td>other</td>\n",
       "      <td>2</td>\n",
       "      <td>0</td>\n",
       "    </tr>\n",
       "    <tr>\n",
       "      <th>856</th>\n",
       "      <td>other</td>\n",
       "      <td>11</td>\n",
       "      <td>1</td>\n",
       "    </tr>\n",
       "    <tr>\n",
       "      <th>857</th>\n",
       "      <td>other</td>\n",
       "      <td>1</td>\n",
       "      <td>0</td>\n",
       "    </tr>\n",
       "    <tr>\n",
       "      <th>858</th>\n",
       "      <td>other</td>\n",
       "      <td>100</td>\n",
       "      <td>1</td>\n",
       "    </tr>\n",
       "    <tr>\n",
       "      <th>859</th>\n",
       "      <td>other</td>\n",
       "      <td>1</td>\n",
       "      <td>0</td>\n",
       "    </tr>\n",
       "  </tbody>\n",
       "</table>\n",
       "<p>860 rows × 3 columns</p>\n",
       "</div>"
      ],
      "text/plain": [
       "      St-1  Lt-1  St\n",
       "0    other   100   1\n",
       "1    other     1   0\n",
       "2    other    10   1\n",
       "3    other     1   0\n",
       "4    other    41   1\n",
       "..     ...   ...  ..\n",
       "855  other     2   0\n",
       "856  other    11   1\n",
       "857  other     1   0\n",
       "858  other   100   1\n",
       "859  other     1   0\n",
       "\n",
       "[860 rows x 3 columns]"
      ]
     },
     "execution_count": 70,
     "metadata": {},
     "output_type": "execute_result"
    }
   ],
   "source": [
    "df = pd.DataFrame(result)\n",
    "df['St'] = df['St'].replace({'leave home': 1, 'enter home': 0})\n",
    "df"
   ]
  },
  {
   "cell_type": "code",
   "execution_count": 71,
   "metadata": {},
   "outputs": [
    {
     "name": "stdout",
     "output_type": "stream",
     "text": [
      "43.12093023255814\n",
      "alpha = 0.74987, beta = 26.96675\n"
     ]
    }
   ],
   "source": [
    "from sklearn.linear_model import LogisticRegression\n",
    "\n",
    "L_mean = df['Lt-1'].sum()/860\n",
    "print(L_mean)\n",
    "L_centered = df['Lt-1'] - L_mean\n",
    "\n",
    "model = LogisticRegression(fit_intercept=True)\n",
    "model.fit(L_centered.values.reshape(-1, 1), df['St'])\n",
    "\n",
    "alpha = model.coef_[0][0]\n",
    "beta = model.intercept_[0]\n",
    "\n",
    "print(f\"alpha = {alpha:.5f}, beta = {beta:.5f}\")"
   ]
  },
  {
   "cell_type": "code",
   "execution_count": 72,
   "metadata": {},
   "outputs": [
    {
     "data": {
      "text/plain": [
       "'              precision    recall  f1-score   support\\n\\n           0       0.98      1.00      0.99       430\\n           1       1.00      0.98      0.99       430\\n\\n    accuracy                           0.99       860\\n   macro avg       0.99      0.99      0.99       860\\nweighted avg       0.99      0.99      0.99       860\\n'"
      ]
     },
     "execution_count": 72,
     "metadata": {},
     "output_type": "execute_result"
    }
   ],
   "source": [
    "y_pred = model.predict(L_centered.values.reshape(-1, 1))\n",
    "y_pred\n",
    "\n",
    "from sklearn.metrics import confusion_matrix\n",
    "from sklearn.metrics import classification_report\n",
    "\n",
    "cm  = confusion_matrix(df['St'], y_pred)\n",
    "\n",
    "report = classification_report(df['St'], y_pred)\n",
    "report"
   ]
  },
  {
   "cell_type": "markdown",
   "metadata": {},
   "source": [
    "## without preceding activity"
   ]
  },
  {
   "cell_type": "code",
   "execution_count": 73,
   "metadata": {},
   "outputs": [
    {
     "name": "stderr",
     "output_type": "stream",
     "text": [
      "/var/folders/p7/20f7xrt504ncpy6nhf4tjw480000gn/T/ipykernel_9300/2033471424.py:20: FutureWarning: Downcasting behavior in `replace` is deprecated and will be removed in a future version. To retain the old behavior, explicitly call `result.infer_objects(copy=False)`. To opt-in to the future behavior, set `pd.set_option('future.no_silent_downcasting', True)`\n",
      "  df_base['St'] = df_base['St'].replace({'leave home': 1, 'enter home': 0})\n"
     ]
    },
    {
     "data": {
      "application/vnd.microsoft.datawrangler.viewer.v0+json": {
       "columns": [
        {
         "name": "index",
         "rawType": "int64",
         "type": "integer"
        },
        {
         "name": "Lt",
         "rawType": "int64",
         "type": "integer"
        },
        {
         "name": "St",
         "rawType": "int64",
         "type": "integer"
        }
       ],
       "conversionMethod": "pd.DataFrame",
       "ref": "63dbaa2e-8506-4645-bbe4-0f7465f880ce",
       "rows": [
        [
         "0",
         "3",
         "1"
        ],
        [
         "1",
         "4",
         "0"
        ],
        [
         "2",
         "3",
         "1"
        ],
        [
         "3",
         "4",
         "0"
        ],
        [
         "4",
         "22",
         "1"
        ],
        [
         "5",
         "3",
         "0"
        ],
        [
         "6",
         "7",
         "1"
        ],
        [
         "7",
         "8",
         "0"
        ],
        [
         "8",
         "5",
         "1"
        ],
        [
         "9",
         "5",
         "0"
        ],
        [
         "10",
         "7",
         "1"
        ],
        [
         "11",
         "4",
         "0"
        ],
        [
         "12",
         "4",
         "1"
        ],
        [
         "13",
         "4",
         "0"
        ],
        [
         "14",
         "5",
         "1"
        ],
        [
         "15",
         "4",
         "0"
        ],
        [
         "16",
         "3",
         "1"
        ],
        [
         "17",
         "6",
         "0"
        ],
        [
         "18",
         "4",
         "1"
        ],
        [
         "19",
         "5",
         "0"
        ],
        [
         "20",
         "3",
         "1"
        ],
        [
         "21",
         "5",
         "0"
        ],
        [
         "22",
         "6",
         "1"
        ],
        [
         "23",
         "3",
         "0"
        ],
        [
         "24",
         "3",
         "1"
        ],
        [
         "25",
         "4",
         "0"
        ],
        [
         "26",
         "2",
         "1"
        ],
        [
         "27",
         "3",
         "0"
        ],
        [
         "28",
         "3",
         "1"
        ],
        [
         "29",
         "3",
         "0"
        ],
        [
         "30",
         "7",
         "1"
        ],
        [
         "31",
         "4",
         "0"
        ],
        [
         "32",
         "5",
         "1"
        ],
        [
         "33",
         "4",
         "0"
        ],
        [
         "34",
         "4",
         "1"
        ],
        [
         "35",
         "5",
         "0"
        ],
        [
         "36",
         "3",
         "1"
        ],
        [
         "37",
         "9",
         "0"
        ],
        [
         "38",
         "4",
         "1"
        ],
        [
         "39",
         "4",
         "0"
        ],
        [
         "40",
         "4",
         "1"
        ],
        [
         "41",
         "5",
         "0"
        ],
        [
         "42",
         "5",
         "1"
        ],
        [
         "43",
         "3",
         "0"
        ],
        [
         "44",
         "5",
         "1"
        ],
        [
         "45",
         "4",
         "0"
        ],
        [
         "46",
         "4",
         "1"
        ],
        [
         "47",
         "6",
         "0"
        ],
        [
         "48",
         "3",
         "1"
        ],
        [
         "49",
         "3",
         "0"
        ]
       ],
       "shape": {
        "columns": 2,
        "rows": 860
       }
      },
      "text/html": [
       "<div>\n",
       "<style scoped>\n",
       "    .dataframe tbody tr th:only-of-type {\n",
       "        vertical-align: middle;\n",
       "    }\n",
       "\n",
       "    .dataframe tbody tr th {\n",
       "        vertical-align: top;\n",
       "    }\n",
       "\n",
       "    .dataframe thead th {\n",
       "        text-align: right;\n",
       "    }\n",
       "</style>\n",
       "<table border=\"1\" class=\"dataframe\">\n",
       "  <thead>\n",
       "    <tr style=\"text-align: right;\">\n",
       "      <th></th>\n",
       "      <th>Lt</th>\n",
       "      <th>St</th>\n",
       "    </tr>\n",
       "  </thead>\n",
       "  <tbody>\n",
       "    <tr>\n",
       "      <th>0</th>\n",
       "      <td>3</td>\n",
       "      <td>1</td>\n",
       "    </tr>\n",
       "    <tr>\n",
       "      <th>1</th>\n",
       "      <td>4</td>\n",
       "      <td>0</td>\n",
       "    </tr>\n",
       "    <tr>\n",
       "      <th>2</th>\n",
       "      <td>3</td>\n",
       "      <td>1</td>\n",
       "    </tr>\n",
       "    <tr>\n",
       "      <th>3</th>\n",
       "      <td>4</td>\n",
       "      <td>0</td>\n",
       "    </tr>\n",
       "    <tr>\n",
       "      <th>4</th>\n",
       "      <td>22</td>\n",
       "      <td>1</td>\n",
       "    </tr>\n",
       "    <tr>\n",
       "      <th>...</th>\n",
       "      <td>...</td>\n",
       "      <td>...</td>\n",
       "    </tr>\n",
       "    <tr>\n",
       "      <th>855</th>\n",
       "      <td>5</td>\n",
       "      <td>0</td>\n",
       "    </tr>\n",
       "    <tr>\n",
       "      <th>856</th>\n",
       "      <td>3</td>\n",
       "      <td>1</td>\n",
       "    </tr>\n",
       "    <tr>\n",
       "      <th>857</th>\n",
       "      <td>6</td>\n",
       "      <td>0</td>\n",
       "    </tr>\n",
       "    <tr>\n",
       "      <th>858</th>\n",
       "      <td>4</td>\n",
       "      <td>1</td>\n",
       "    </tr>\n",
       "    <tr>\n",
       "      <th>859</th>\n",
       "      <td>4</td>\n",
       "      <td>0</td>\n",
       "    </tr>\n",
       "  </tbody>\n",
       "</table>\n",
       "<p>860 rows × 2 columns</p>\n",
       "</div>"
      ],
      "text/plain": [
       "     Lt  St\n",
       "0     3   1\n",
       "1     4   0\n",
       "2     3   1\n",
       "3     4   0\n",
       "4    22   1\n",
       "..   ..  ..\n",
       "855   5   0\n",
       "856   3   1\n",
       "857   6   0\n",
       "858   4   1\n",
       "859   4   0\n",
       "\n",
       "[860 rows x 2 columns]"
      ]
     },
     "execution_count": 73,
     "metadata": {},
     "output_type": "execute_result"
    }
   ],
   "source": [
    "import scipy.stats as stats\n",
    "\n",
    "result_base = []\n",
    "enter_count_base = 0\n",
    "leave_count_base = 0\n",
    "\n",
    "for i in range(430):\n",
    "    leave = np.sum(~np.isnan(x[activity8[i]]))\n",
    "    # print(not_nan_count_leave)\n",
    "    result_base.append({'Lt':leave, 'St':'leave home'})\n",
    "    leave_count_base += 1\n",
    "\n",
    "    not_nan_count_enter = np.sum(~np.isnan(x[activity9[i]]))\n",
    "    enter = np.sum(~np.isnan(x[activity9[i]]))\n",
    "    # print(not_nan_count_enter)\n",
    "    result_base.append({'Lt':enter, 'St':'enter home'})\n",
    "    enter_count_base += 1\n",
    "\n",
    "df_base = pd.DataFrame(result_base)\n",
    "df_base['St'] = df_base['St'].replace({'leave home': 1, 'enter home': 0})\n",
    "df_base"
   ]
  },
  {
   "cell_type": "code",
   "execution_count": 74,
   "metadata": {},
   "outputs": [
    {
     "name": "stdout",
     "output_type": "stream",
     "text": [
      "4.588372093023255\n",
      "alpha_base = -0.02109, beta_base = -0.00002\n"
     ]
    }
   ],
   "source": [
    "L_mean = df_base['Lt'].sum()/860\n",
    "print(L_mean)\n",
    "L_centered = df_base['Lt'] - L_mean\n",
    "\n",
    "model = LogisticRegression(fit_intercept=True)\n",
    "model.fit(L_centered.values.reshape(-1, 1), df_base['St'])\n",
    "\n",
    "alpha_base = model.coef_[0][0]\n",
    "beta_base = model.intercept_[0]\n",
    "\n",
    "print(f\"alpha_base = {alpha_base:.5f}, beta_base = {beta_base:.5f}\")"
   ]
  },
  {
   "cell_type": "code",
   "execution_count": 75,
   "metadata": {},
   "outputs": [
    {
     "name": "stdout",
     "output_type": "stream",
     "text": [
      "[[175 255]\n",
      " [119 311]]\n",
      "              precision    recall  f1-score   support\n",
      "\n",
      "           0       0.60      0.41      0.48       430\n",
      "           1       0.55      0.72      0.62       430\n",
      "\n",
      "    accuracy                           0.57       860\n",
      "   macro avg       0.57      0.57      0.55       860\n",
      "weighted avg       0.57      0.57      0.55       860\n",
      "\n"
     ]
    }
   ],
   "source": [
    "y_base_pred = model.predict(L_centered.values.reshape(-1, 1))\n",
    "\n",
    "cm_base = confusion_matrix(df_base['St'], y_base_pred)\n",
    "print(cm_base)\n",
    "\n",
    "report_base = classification_report(df_base['St'], y_base_pred)\n",
    "print(report_base)"
   ]
  },
  {
   "cell_type": "markdown",
   "metadata": {},
   "source": [
    "## nemar's test"
   ]
  },
  {
   "cell_type": "code",
   "execution_count": 80,
   "metadata": {},
   "outputs": [
    {
     "name": "stdout",
     "output_type": "stream",
     "text": [
      "      St-1  Lt-1  St  with  without  nemar\n",
      "0    other   100   1     1        1      0\n",
      "1    other     1   0     0        1     -1\n",
      "2    other    10   1     1        1      0\n",
      "3    other     1   0     0        1     -1\n",
      "4    other    41   1     1        0      1\n",
      "..     ...   ...  ..   ...      ...    ...\n",
      "855  other     2   0     0        0      0\n",
      "856  other    11   1     1        1      0\n",
      "857  other     1   0     0        0      0\n",
      "858  other   100   1     1        1      0\n",
      "859  other     1   0     0        1     -1\n",
      "\n",
      "[860 rows x 6 columns]\n",
      "nemar\n",
      " 0    481\n",
      "-1    261\n",
      " 1    118\n",
      "Name: count, dtype: int64\n"
     ]
    },
    {
     "data": {
      "text/plain": [
       "11.5456570155902"
      ]
     },
     "execution_count": 80,
     "metadata": {},
     "output_type": "execute_result"
    }
   ],
   "source": [
    "df[\"with\"] = y_pred\n",
    "df[\"without\"] = y_base_pred\n",
    "print(df)\n",
    "df['nemar'] = df['with'] - df['without']\n",
    "print(df['nemar'].value_counts())\n",
    "\n",
    "# McNemar's test\n",
    "chi = (261-188-1)**2/(261+188)\n",
    "chi\n"
   ]
  },
  {
   "cell_type": "markdown",
   "metadata": {},
   "source": [
    "## milan"
   ]
  },
  {
   "cell_type": "code",
   "execution_count": 17,
   "metadata": {},
   "outputs": [],
   "source": [
    "x = np.load(r'X.npy',allow_pickle=True)\n",
    "y = np.load(r'Y.npy',allow_pickle=True)\n",
    "y = y.astype(str)\n",
    "\n",
    "activity1 = []\n",
    "for i in range(np.size(y)):\n",
    "    if y[i] == '1':\n",
    "        activity1.append(i)\n",
    "        \n",
    "activity3 = []\n",
    "for i in range(np.size(y)):\n",
    "    if y[i] == '3':\n",
    "        activity3.append(i)"
   ]
  },
  {
   "cell_type": "code",
   "execution_count": 18,
   "metadata": {},
   "outputs": [
    {
     "name": "stderr",
     "output_type": "stream",
     "text": [
      "/var/folders/p7/20f7xrt504ncpy6nhf4tjw480000gn/T/ipykernel_83378/3797573269.py:21: FutureWarning: Downcasting behavior in `replace` is deprecated and will be removed in a future version. To retain the old behavior, explicitly call `result.infer_objects(copy=False)`. To opt-in to the future behavior, set `pd.set_option('future.no_silent_downcasting', True)`\n",
      "  df['St'] = df['St'].replace({'master bathroom': 1, 'bed2toilet': 0})\n"
     ]
    }
   ],
   "source": [
    "result = []\n",
    "enter_count = 0\n",
    "leave_count = 0\n",
    "\n",
    "for i in range(len(activity1)):\n",
    "    not_nan_count_leave = np.sum(~np.isnan(x[activity1[i]-1]))\n",
    "    leave = np.sum(~np.isnan(x[activity1[i]]))\n",
    "    # print(not_nan_count_leave)\n",
    "    result.append({'St-1':'other', 'Lt-1':not_nan_count_leave, 'St':'bed2toilet'})\n",
    "    leave_count += 1\n",
    "\n",
    "\n",
    "for i in range(len(activity3)):\n",
    "    not_nan_count_enter = np.sum(~np.isnan(x[activity3[i]-1]))\n",
    "    enter = np.sum(~np.isnan(x[activity3[i]]))\n",
    "    # print(not_nan_count_enter)\n",
    "    result.append({'St-1':'other', 'Lt-1':not_nan_count_enter, 'St':'master bathroom'})\n",
    "    enter_count += 1\n",
    "\n",
    "df = pd.DataFrame(result)\n",
    "df['St'] = df['St'].replace({'master bathroom': 1, 'bed2toilet': 0})"
   ]
  },
  {
   "cell_type": "code",
   "execution_count": 19,
   "metadata": {},
   "outputs": [
    {
     "name": "stdout",
     "output_type": "stream",
     "text": [
      "93.09746161078031\n",
      "alpha = 0.03507, beta = 4.11385\n"
     ]
    }
   ],
   "source": [
    "from sklearn.linear_model import LogisticRegression\n",
    "\n",
    "L_mean = df['Lt-1'].sum()/(len(activity1)+len(activity3))\n",
    "print(L_mean)\n",
    "L_centered = df['Lt-1'] - L_mean\n",
    "\n",
    "model = LogisticRegression(fit_intercept=True)\n",
    "model.fit(L_centered.values.reshape(-1, 1), df['St'])\n",
    "\n",
    "alpha = model.coef_[0][0]\n",
    "beta = model.intercept_[0]\n",
    "\n",
    "print(f\"alpha = {alpha:.5f}, beta = {beta:.5f}\")"
   ]
  },
  {
   "cell_type": "code",
   "execution_count": 21,
   "metadata": {},
   "outputs": [
    {
     "name": "stdout",
     "output_type": "stream",
     "text": [
      "[[   0   88]\n",
      " [   0 3103]]\n",
      "              precision    recall  f1-score   support\n",
      "\n",
      "           0       0.00      0.00      0.00        88\n",
      "           1       0.97      1.00      0.99      3103\n",
      "\n",
      "    accuracy                           0.97      3191\n",
      "   macro avg       0.49      0.50      0.49      3191\n",
      "weighted avg       0.95      0.97      0.96      3191\n",
      "\n"
     ]
    },
    {
     "name": "stderr",
     "output_type": "stream",
     "text": [
      "/Users/zehaokou/miniconda3/envs/csi/lib/python3.9/site-packages/sklearn/metrics/_classification.py:1531: UndefinedMetricWarning: Precision is ill-defined and being set to 0.0 in labels with no predicted samples. Use `zero_division` parameter to control this behavior.\n",
      "  _warn_prf(average, modifier, f\"{metric.capitalize()} is\", len(result))\n",
      "/Users/zehaokou/miniconda3/envs/csi/lib/python3.9/site-packages/sklearn/metrics/_classification.py:1531: UndefinedMetricWarning: Precision is ill-defined and being set to 0.0 in labels with no predicted samples. Use `zero_division` parameter to control this behavior.\n",
      "  _warn_prf(average, modifier, f\"{metric.capitalize()} is\", len(result))\n",
      "/Users/zehaokou/miniconda3/envs/csi/lib/python3.9/site-packages/sklearn/metrics/_classification.py:1531: UndefinedMetricWarning: Precision is ill-defined and being set to 0.0 in labels with no predicted samples. Use `zero_division` parameter to control this behavior.\n",
      "  _warn_prf(average, modifier, f\"{metric.capitalize()} is\", len(result))\n"
     ]
    }
   ],
   "source": [
    "y_pred = model.predict(L_centered.values.reshape(-1, 1))\n",
    "y_pred\n",
    "\n",
    "from sklearn.metrics import confusion_matrix\n",
    "from sklearn.metrics import classification_report\n",
    "\n",
    "cm  = confusion_matrix(df['St'], y_pred)\n",
    "print(cm)\n",
    "\n",
    "report = classification_report(df['St'], y_pred)\n",
    "print(report)"
   ]
  },
  {
   "cell_type": "markdown",
   "metadata": {},
   "source": [
    "## without preceding activities"
   ]
  },
  {
   "cell_type": "code",
   "execution_count": 23,
   "metadata": {},
   "outputs": [
    {
     "name": "stderr",
     "output_type": "stream",
     "text": [
      "/var/folders/p7/20f7xrt504ncpy6nhf4tjw480000gn/T/ipykernel_83378/603506165.py:21: FutureWarning: Downcasting behavior in `replace` is deprecated and will be removed in a future version. To retain the old behavior, explicitly call `result.infer_objects(copy=False)`. To opt-in to the future behavior, set `pd.set_option('future.no_silent_downcasting', True)`\n",
      "  df_base['St'] = df_base['St'].replace({'master bathroom': 1, 'bed2toilet': 0})\n"
     ]
    },
    {
     "data": {
      "application/vnd.microsoft.datawrangler.viewer.v0+json": {
       "columns": [
        {
         "name": "index",
         "rawType": "int64",
         "type": "integer"
        },
        {
         "name": "Lt",
         "rawType": "int64",
         "type": "integer"
        },
        {
         "name": "St",
         "rawType": "int64",
         "type": "integer"
        }
       ],
       "conversionMethod": "pd.DataFrame",
       "ref": "5184a3c6-ff52-4319-9bfc-d959d43d6767",
       "rows": [
        [
         "0",
         "17",
         "0"
        ],
        [
         "1",
         "26",
         "0"
        ],
        [
         "2",
         "11",
         "0"
        ],
        [
         "3",
         "22",
         "0"
        ],
        [
         "4",
         "13",
         "0"
        ],
        [
         "5",
         "11",
         "0"
        ],
        [
         "6",
         "24",
         "0"
        ],
        [
         "7",
         "17",
         "0"
        ],
        [
         "8",
         "9",
         "0"
        ],
        [
         "9",
         "6",
         "0"
        ],
        [
         "10",
         "17",
         "0"
        ],
        [
         "11",
         "65",
         "0"
        ],
        [
         "12",
         "11",
         "0"
        ],
        [
         "13",
         "10",
         "0"
        ],
        [
         "14",
         "7",
         "0"
        ],
        [
         "15",
         "18",
         "0"
        ],
        [
         "16",
         "11",
         "0"
        ],
        [
         "17",
         "16",
         "0"
        ],
        [
         "18",
         "8",
         "0"
        ],
        [
         "19",
         "9",
         "0"
        ],
        [
         "20",
         "11",
         "0"
        ],
        [
         "21",
         "8",
         "0"
        ],
        [
         "22",
         "6",
         "0"
        ],
        [
         "23",
         "15",
         "0"
        ],
        [
         "24",
         "12",
         "0"
        ],
        [
         "25",
         "11",
         "0"
        ],
        [
         "26",
         "8",
         "0"
        ],
        [
         "27",
         "11",
         "0"
        ],
        [
         "28",
         "10",
         "0"
        ],
        [
         "29",
         "8",
         "0"
        ],
        [
         "30",
         "14",
         "0"
        ],
        [
         "31",
         "19",
         "0"
        ],
        [
         "32",
         "11",
         "0"
        ],
        [
         "33",
         "9",
         "0"
        ],
        [
         "34",
         "9",
         "0"
        ],
        [
         "35",
         "13",
         "0"
        ],
        [
         "36",
         "7",
         "0"
        ],
        [
         "37",
         "8",
         "0"
        ],
        [
         "38",
         "6",
         "0"
        ],
        [
         "39",
         "8",
         "0"
        ],
        [
         "40",
         "19",
         "0"
        ],
        [
         "41",
         "8",
         "0"
        ],
        [
         "42",
         "7",
         "0"
        ],
        [
         "43",
         "11",
         "0"
        ],
        [
         "44",
         "9",
         "0"
        ],
        [
         "45",
         "9",
         "0"
        ],
        [
         "46",
         "6",
         "0"
        ],
        [
         "47",
         "9",
         "0"
        ],
        [
         "48",
         "9",
         "0"
        ],
        [
         "49",
         "19",
         "0"
        ]
       ],
       "shape": {
        "columns": 2,
        "rows": 3191
       }
      },
      "text/html": [
       "<div>\n",
       "<style scoped>\n",
       "    .dataframe tbody tr th:only-of-type {\n",
       "        vertical-align: middle;\n",
       "    }\n",
       "\n",
       "    .dataframe tbody tr th {\n",
       "        vertical-align: top;\n",
       "    }\n",
       "\n",
       "    .dataframe thead th {\n",
       "        text-align: right;\n",
       "    }\n",
       "</style>\n",
       "<table border=\"1\" class=\"dataframe\">\n",
       "  <thead>\n",
       "    <tr style=\"text-align: right;\">\n",
       "      <th></th>\n",
       "      <th>Lt</th>\n",
       "      <th>St</th>\n",
       "    </tr>\n",
       "  </thead>\n",
       "  <tbody>\n",
       "    <tr>\n",
       "      <th>0</th>\n",
       "      <td>17</td>\n",
       "      <td>0</td>\n",
       "    </tr>\n",
       "    <tr>\n",
       "      <th>1</th>\n",
       "      <td>26</td>\n",
       "      <td>0</td>\n",
       "    </tr>\n",
       "    <tr>\n",
       "      <th>2</th>\n",
       "      <td>11</td>\n",
       "      <td>0</td>\n",
       "    </tr>\n",
       "    <tr>\n",
       "      <th>3</th>\n",
       "      <td>22</td>\n",
       "      <td>0</td>\n",
       "    </tr>\n",
       "    <tr>\n",
       "      <th>4</th>\n",
       "      <td>13</td>\n",
       "      <td>0</td>\n",
       "    </tr>\n",
       "    <tr>\n",
       "      <th>...</th>\n",
       "      <td>...</td>\n",
       "      <td>...</td>\n",
       "    </tr>\n",
       "    <tr>\n",
       "      <th>3186</th>\n",
       "      <td>100</td>\n",
       "      <td>1</td>\n",
       "    </tr>\n",
       "    <tr>\n",
       "      <th>3187</th>\n",
       "      <td>100</td>\n",
       "      <td>1</td>\n",
       "    </tr>\n",
       "    <tr>\n",
       "      <th>3188</th>\n",
       "      <td>100</td>\n",
       "      <td>1</td>\n",
       "    </tr>\n",
       "    <tr>\n",
       "      <th>3189</th>\n",
       "      <td>100</td>\n",
       "      <td>1</td>\n",
       "    </tr>\n",
       "    <tr>\n",
       "      <th>3190</th>\n",
       "      <td>54</td>\n",
       "      <td>1</td>\n",
       "    </tr>\n",
       "  </tbody>\n",
       "</table>\n",
       "<p>3191 rows × 2 columns</p>\n",
       "</div>"
      ],
      "text/plain": [
       "       Lt  St\n",
       "0      17   0\n",
       "1      26   0\n",
       "2      11   0\n",
       "3      22   0\n",
       "4      13   0\n",
       "...   ...  ..\n",
       "3186  100   1\n",
       "3187  100   1\n",
       "3188  100   1\n",
       "3189  100   1\n",
       "3190   54   1\n",
       "\n",
       "[3191 rows x 2 columns]"
      ]
     },
     "execution_count": 23,
     "metadata": {},
     "output_type": "execute_result"
    }
   ],
   "source": [
    "import scipy.stats as stats\n",
    "\n",
    "result_base = []\n",
    "enter_count_base = 0\n",
    "leave_count_base = 0\n",
    "\n",
    "for i in range(len(activity1)):\n",
    "    leave = np.sum(~np.isnan(x[activity1[i]]))\n",
    "    # print(not_nan_count_leave)\n",
    "    result_base.append({'Lt':leave, 'St':'bed2toilet'})\n",
    "    leave_count_base += 1\n",
    "\n",
    "for i in range(len(activity3)):\n",
    "    not_nan_count_enter = np.sum(~np.isnan(x[activity3[i]]))\n",
    "    enter = np.sum(~np.isnan(x[activity3[i]]))\n",
    "    # print(not_nan_count_enter)\n",
    "    result_base.append({'Lt':enter, 'St':'master bathroom'})\n",
    "    enter_count_base += 1\n",
    "\n",
    "df_base = pd.DataFrame(result_base)\n",
    "df_base['St'] = df_base['St'].replace({'master bathroom': 1, 'bed2toilet': 0})\n",
    "df_base"
   ]
  },
  {
   "cell_type": "code",
   "execution_count": 24,
   "metadata": {},
   "outputs": [
    {
     "name": "stdout",
     "output_type": "stream",
     "text": [
      "91.64963961140708\n",
      "alpha_base = 0.09385, beta_base = 8.01282\n"
     ]
    }
   ],
   "source": [
    "L_mean = df_base['Lt'].sum()/3191\n",
    "print(L_mean)\n",
    "L_centered = df_base['Lt'] - L_mean\n",
    "\n",
    "model = LogisticRegression(fit_intercept=True)\n",
    "model.fit(L_centered.values.reshape(-1, 1), df_base['St'])\n",
    "\n",
    "alpha_base = model.coef_[0][0]\n",
    "beta_base = model.intercept_[0]\n",
    "\n",
    "print(f\"alpha_base = {alpha_base:.5f}, beta_base = {beta_base:.5f}\")"
   ]
  },
  {
   "cell_type": "code",
   "execution_count": 25,
   "metadata": {},
   "outputs": [
    {
     "name": "stdout",
     "output_type": "stream",
     "text": [
      "[[   6   82]\n",
      " [  13 3090]]\n",
      "              precision    recall  f1-score   support\n",
      "\n",
      "           0       0.32      0.07      0.11        88\n",
      "           1       0.97      1.00      0.98      3103\n",
      "\n",
      "    accuracy                           0.97      3191\n",
      "   macro avg       0.64      0.53      0.55      3191\n",
      "weighted avg       0.96      0.97      0.96      3191\n",
      "\n"
     ]
    }
   ],
   "source": [
    "y_base_pred = model.predict(L_centered.values.reshape(-1, 1))\n",
    "\n",
    "cm_base = confusion_matrix(df_base['St'], y_base_pred)\n",
    "print(cm_base)\n",
    "\n",
    "report_base = classification_report(df_base['St'], y_base_pred)\n",
    "print(report_base)"
   ]
  },
  {
   "cell_type": "code",
   "execution_count": 27,
   "metadata": {},
   "outputs": [
    {
     "name": "stdout",
     "output_type": "stream",
     "text": [
      "       St-1  Lt-1  St  with  without  nemar\n",
      "0     other    82   0     1        1      0\n",
      "1     other    43   0     1        1      0\n",
      "2     other   100   0     1        1      0\n",
      "3     other     1   0     1        1      0\n",
      "4     other    60   0     1        1      0\n",
      "...     ...   ...  ..   ...      ...    ...\n",
      "3186  other   100   1     1        1      0\n",
      "3187  other   100   1     1        1      0\n",
      "3188  other   100   1     1        1      0\n",
      "3189  other   100   1     1        1      0\n",
      "3190  other   100   1     1        1      0\n",
      "\n",
      "[3191 rows x 6 columns]\n",
      "nemar\n",
      "0    3172\n",
      "1      19\n",
      "Name: count, dtype: int64\n"
     ]
    },
    {
     "data": {
      "text/plain": [
       "17.05263157894737"
      ]
     },
     "execution_count": 27,
     "metadata": {},
     "output_type": "execute_result"
    }
   ],
   "source": [
    "df[\"with\"] = y_pred\n",
    "df[\"without\"] = y_base_pred\n",
    "print(df)\n",
    "df['nemar'] = df['with'] - df['without']\n",
    "print(df['nemar'].value_counts())\n",
    "\n",
    "# McNemar's test\n",
    "chi = (19-1)**2/(19)\n",
    "chi\n"
   ]
  },
  {
   "cell_type": "code",
   "execution_count": 30,
   "metadata": {},
   "outputs": [
    {
     "data": {
      "image/png": "[encoded data removed]",
      "text/plain": [
       "<Figure size 1600x1400 with 2 Axes>"
      ]
     },
     "metadata": {},
     "output_type": "display_data"
    }
   ],
   "source": [
    "import seaborn as sns\n",
    "import numpy as np\n",
    "import matplotlib.pyplot as plt\n",
    "\n",
    "# Confusion matrix from the image\n",
    "cm = np.array([\n",
    "    [401, 0, 0, 0, 0, 0, 0, 0, 0, 0, 0, 0],\n",
    "    [0, 396, 3, 0, 1, 0, 0, 0, 0, 0, 0, 0],\n",
    "    [0, 0, 32, 0, 0, 0, 0, 0, 0, 0, 0, 0],\n",
    "    [0, 0, 0, 398, 0, 0, 0, 3, 0, 0, 0, 0],\n",
    "    [0, 0, 0, 0, 400, 0, 0, 0, 0, 0, 0, 0],\n",
    "    [0, 0, 0, 0, 0, 400, 0, 0, 0, 0, 0, 0],\n",
    "    [0, 0, 0, 0, 0, 0, 400, 0, 0, 0, 0, 0],\n",
    "    [0, 1, 0, 1, 0, 0, 0, 399, 0, 0, 0, 0],\n",
    "    [0, 0, 0, 0, 0, 0, 0, 0, 56, 31, 0, 0],\n",
    "    [0, 0, 0, 0, 0, 0, 0, 0, 3, 84, 0, 0],\n",
    "    [0, 0, 0, 0, 0, 0, 0, 0, 0, 0, 401, 0],\n",
    "    [0, 0, 0, 0, 0, 0, 0, 0, 0, 0, 1, 19]\n",
    "])\n",
    "\n",
    "con_mat_norm = cm.astype('float') / cm.sum(axis=1)[:, np.newaxis]  # 归一化\n",
    "con_mat_norm = np.around(con_mat_norm, decimals=2)\n",
    "\n",
    "fig, ax = plt.subplots(figsize=(16, 14)) #14, 12\n",
    "sns.heatmap(con_mat_norm, annot=True, cmap='Blues',annot_kws={'size':15},)\n",
    "\n",
    "plt.title(\"Ablation Without Historical Features\", fontsize = 20)\n",
    "plt.xlabel('Predicted Label', fontsize = 20)\n",
    "plt.ylabel('true Label', fontsize = 20)\n",
    "\n",
    "ax.set_xticklabels(['sleeping', 'other', 'bed2toilet', 'meal', 'realx', 'housekeeping', 'eating', 'wash_dish', 'leave',\n",
    "                    'enter', 'work', 'respirate'],rotation=45, fontsize=14)\n",
    "ax.set_yticklabels(['sleeping', 'other', 'bed2toilet', 'meal', 'realx', 'housekeeping', 'eating', 'wash_dish', 'leave',\n",
    "                    'enter', 'work', 'respirate'],rotation=45, fontsize=14)\n",
    "\n",
    "\n",
    "plt.savefig(\"cm.pdf\", bbox_inches = 'tight')\n",
    "plt.show()"
   ]
  },
  {
   "cell_type": "code",
   "execution_count": 35,
   "metadata": {},
   "outputs": [
    {
     "name": "stdout",
     "output_type": "stream",
     "text": [
      "3103\n",
      "210285\n"
     ]
    }
   ],
   "source": [
    "print(len(activity3))\n",
    "print(np.size(y))"
   ]
  }
 ],
 "metadata": {
  "kernelspec": {
   "display_name": "csi",
   "language": "python",
   "name": "python3"
  },
  "language_info": {
   "codemirror_mode": {
    "name": "ipython",
    "version": 3
   },
   "file_extension": ".py",
   "mimetype": "text/x-python",
   "name": "python",
   "nbconvert_exporter": "python",
   "pygments_lexer": "ipython3",
   "version": "3.9.19"
  }
 },
 "nbformat": 4,
 "nbformat_minor": 2
}

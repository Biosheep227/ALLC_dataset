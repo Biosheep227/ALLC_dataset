{
 "cells": [
  {
   "cell_type": "code",
   "execution_count": 1,
   "metadata": {},
   "outputs": [],
   "source": [
    "import numpy as np\n",
    "import pandas as pd\n",
    "import matplotlib.pyplot as plt"
   ]
  },
  {
   "cell_type": "code",
   "execution_count": 2,
   "metadata": {},
   "outputs": [
    {
     "data": {
      "text/plain": [
       "{'Sleeping': 0,\n",
       " 'Other': 1,\n",
       " 'Bed_to_Toilet': 2,\n",
       " 'Meal_Preparation': 3,\n",
       " 'Relax': 4,\n",
       " 'Housekeeping': 5,\n",
       " 'Eating': 6,\n",
       " 'Wash_Dishes': 7,\n",
       " 'Leave_Home': 8,\n",
       " 'Enter_Home': 9,\n",
       " 'Work': 10,\n",
       " 'Respirate': 11}"
      ]
     },
     "execution_count": 2,
     "metadata": {},
     "output_type": "execute_result"
    }
   ],
   "source": [
    "{'Sleeping': 0, 'Other': 1, 'Bed_to_Toilet': 2, 'Meal_Preparation': 3, 'Relax': 4, 'Housekeeping': 5, 'Eating': 6, 'Wash_Dishes': 7, 'Leave_Home': 8, 'Enter_Home': 9, 'Work': 10, 'Respirate': 11}"
   ]
  },
  {
   "cell_type": "code",
   "execution_count": 3,
   "metadata": {},
   "outputs": [],
   "source": [
    "x = np.load(r'/Users/zehaokou/Desktop/Technion/AI/plot/new_processing/step1_state_index.npy',allow_pickle=True)\n",
    "#x = x.astype(int)\n",
    "y = np.load(r'/Users/zehaokou/Desktop/Technion/AI/plot/new_processing/step1_padding100/new_processing_100_padded_step1_Y.npy',allow_pickle=True)\n",
    "y = y.astype(str)"
   ]
  },
  {
   "cell_type": "code",
   "execution_count": 10,
   "metadata": {},
   "outputs": [
    {
     "data": {
      "text/plain": [
       "array(['0', '1', '2', '1', '0', '1', '3', '3', '3', '3'], dtype='<U21')"
      ]
     },
     "execution_count": 10,
     "metadata": {},
     "output_type": "execute_result"
    }
   ],
   "source": [
    "y[:10]"
   ]
  },
  {
   "cell_type": "code",
   "execution_count": 12,
   "metadata": {},
   "outputs": [],
   "source": [
    "activity8 = []\n",
    "for i in range(np.size(y)):\n",
    "    if y[i] == '8':\n",
    "        activity8.append(i)\n",
    "        \n",
    "activity9 = []\n",
    "for i in range(np.size(y)):\n",
    "    if y[i] == '9':\n",
    "        activity9.append(i)"
   ]
  },
  {
   "cell_type": "code",
   "execution_count": 100,
   "metadata": {},
   "outputs": [],
   "source": [
    "result = []\n",
    "enter_count = 0\n",
    "leave_count = 0\n",
    "\n",
    "for i in range(430):\n",
    "    not_nan_count_leave = np.sum(~np.isnan(x[activity8[i]-1]))\n",
    "    leave = np.sum(~np.isnan(x[activity8[i]]))\n",
    "    # print(not_nan_count_leave)\n",
    "    result.append({'St-1':'other', 'Lt-1':not_nan_count_leave, 'St':'leave home'})\n",
    "    leave_count += 1\n",
    "\n",
    "    not_nan_count_enter = np.sum(~np.isnan(x[activity9[i]-1]))\n",
    "    enter = np.sum(~np.isnan(x[activity9[i]]))\n",
    "    # print(not_nan_count_enter)\n",
    "    result.append({'St-1':'other', 'Lt-1':not_nan_count_enter, 'St':'enter home'})\n",
    "    enter_count += 1"
   ]
  },
  {
   "cell_type": "code",
   "execution_count": 118,
   "metadata": {},
   "outputs": [
    {
     "data": {
      "text/html": [
       "<div>\n",
       "<style scoped>\n",
       "    .dataframe tbody tr th:only-of-type {\n",
       "        vertical-align: middle;\n",
       "    }\n",
       "\n",
       "    .dataframe tbody tr th {\n",
       "        vertical-align: top;\n",
       "    }\n",
       "\n",
       "    .dataframe thead th {\n",
       "        text-align: right;\n",
       "    }\n",
       "</style>\n",
       "<table border=\"1\" class=\"dataframe\">\n",
       "  <thead>\n",
       "    <tr style=\"text-align: right;\">\n",
       "      <th></th>\n",
       "      <th>St-1</th>\n",
       "      <th>Lt-1</th>\n",
       "      <th>St</th>\n",
       "    </tr>\n",
       "  </thead>\n",
       "  <tbody>\n",
       "    <tr>\n",
       "      <th>0</th>\n",
       "      <td>other</td>\n",
       "      <td>100</td>\n",
       "      <td>leave home</td>\n",
       "    </tr>\n",
       "    <tr>\n",
       "      <th>1</th>\n",
       "      <td>other</td>\n",
       "      <td>1</td>\n",
       "      <td>enter home</td>\n",
       "    </tr>\n",
       "    <tr>\n",
       "      <th>2</th>\n",
       "      <td>other</td>\n",
       "      <td>10</td>\n",
       "      <td>leave home</td>\n",
       "    </tr>\n",
       "    <tr>\n",
       "      <th>3</th>\n",
       "      <td>other</td>\n",
       "      <td>1</td>\n",
       "      <td>enter home</td>\n",
       "    </tr>\n",
       "    <tr>\n",
       "      <th>4</th>\n",
       "      <td>other</td>\n",
       "      <td>41</td>\n",
       "      <td>leave home</td>\n",
       "    </tr>\n",
       "    <tr>\n",
       "      <th>...</th>\n",
       "      <td>...</td>\n",
       "      <td>...</td>\n",
       "      <td>...</td>\n",
       "    </tr>\n",
       "    <tr>\n",
       "      <th>855</th>\n",
       "      <td>other</td>\n",
       "      <td>2</td>\n",
       "      <td>enter home</td>\n",
       "    </tr>\n",
       "    <tr>\n",
       "      <th>856</th>\n",
       "      <td>other</td>\n",
       "      <td>11</td>\n",
       "      <td>leave home</td>\n",
       "    </tr>\n",
       "    <tr>\n",
       "      <th>857</th>\n",
       "      <td>other</td>\n",
       "      <td>1</td>\n",
       "      <td>enter home</td>\n",
       "    </tr>\n",
       "    <tr>\n",
       "      <th>858</th>\n",
       "      <td>other</td>\n",
       "      <td>100</td>\n",
       "      <td>leave home</td>\n",
       "    </tr>\n",
       "    <tr>\n",
       "      <th>859</th>\n",
       "      <td>other</td>\n",
       "      <td>1</td>\n",
       "      <td>enter home</td>\n",
       "    </tr>\n",
       "  </tbody>\n",
       "</table>\n",
       "<p>860 rows × 3 columns</p>\n",
       "</div>"
      ],
      "text/plain": [
       "      St-1  Lt-1          St\n",
       "0    other   100  leave home\n",
       "1    other     1  enter home\n",
       "2    other    10  leave home\n",
       "3    other     1  enter home\n",
       "4    other    41  leave home\n",
       "..     ...   ...         ...\n",
       "855  other     2  enter home\n",
       "856  other    11  leave home\n",
       "857  other     1  enter home\n",
       "858  other   100  leave home\n",
       "859  other     1  enter home\n",
       "\n",
       "[860 rows x 3 columns]"
      ]
     },
     "execution_count": 118,
     "metadata": {},
     "output_type": "execute_result"
    }
   ],
   "source": [
    "df = pd.DataFrame(result)\n",
    "df"
   ]
  },
  {
   "cell_type": "code",
   "execution_count": 119,
   "metadata": {},
   "outputs": [
    {
     "data": {
      "text/html": [
       "<div>\n",
       "<style scoped>\n",
       "    .dataframe tbody tr th:only-of-type {\n",
       "        vertical-align: middle;\n",
       "    }\n",
       "\n",
       "    .dataframe tbody tr th {\n",
       "        vertical-align: top;\n",
       "    }\n",
       "\n",
       "    .dataframe thead th {\n",
       "        text-align: right;\n",
       "    }\n",
       "</style>\n",
       "<table border=\"1\" class=\"dataframe\">\n",
       "  <thead>\n",
       "    <tr style=\"text-align: right;\">\n",
       "      <th></th>\n",
       "      <th>St-1</th>\n",
       "      <th>Lt-1</th>\n",
       "      <th>St</th>\n",
       "    </tr>\n",
       "  </thead>\n",
       "  <tbody>\n",
       "    <tr>\n",
       "      <th>0</th>\n",
       "      <td>other</td>\n",
       "      <td>100</td>\n",
       "      <td>0</td>\n",
       "    </tr>\n",
       "    <tr>\n",
       "      <th>1</th>\n",
       "      <td>other</td>\n",
       "      <td>1</td>\n",
       "      <td>1</td>\n",
       "    </tr>\n",
       "    <tr>\n",
       "      <th>2</th>\n",
       "      <td>other</td>\n",
       "      <td>10</td>\n",
       "      <td>0</td>\n",
       "    </tr>\n",
       "    <tr>\n",
       "      <th>3</th>\n",
       "      <td>other</td>\n",
       "      <td>1</td>\n",
       "      <td>1</td>\n",
       "    </tr>\n",
       "    <tr>\n",
       "      <th>4</th>\n",
       "      <td>other</td>\n",
       "      <td>41</td>\n",
       "      <td>0</td>\n",
       "    </tr>\n",
       "    <tr>\n",
       "      <th>...</th>\n",
       "      <td>...</td>\n",
       "      <td>...</td>\n",
       "      <td>...</td>\n",
       "    </tr>\n",
       "    <tr>\n",
       "      <th>855</th>\n",
       "      <td>other</td>\n",
       "      <td>2</td>\n",
       "      <td>1</td>\n",
       "    </tr>\n",
       "    <tr>\n",
       "      <th>856</th>\n",
       "      <td>other</td>\n",
       "      <td>11</td>\n",
       "      <td>0</td>\n",
       "    </tr>\n",
       "    <tr>\n",
       "      <th>857</th>\n",
       "      <td>other</td>\n",
       "      <td>1</td>\n",
       "      <td>1</td>\n",
       "    </tr>\n",
       "    <tr>\n",
       "      <th>858</th>\n",
       "      <td>other</td>\n",
       "      <td>100</td>\n",
       "      <td>0</td>\n",
       "    </tr>\n",
       "    <tr>\n",
       "      <th>859</th>\n",
       "      <td>other</td>\n",
       "      <td>1</td>\n",
       "      <td>1</td>\n",
       "    </tr>\n",
       "  </tbody>\n",
       "</table>\n",
       "<p>860 rows × 3 columns</p>\n",
       "</div>"
      ],
      "text/plain": [
       "      St-1  Lt-1  St\n",
       "0    other   100   0\n",
       "1    other     1   1\n",
       "2    other    10   0\n",
       "3    other     1   1\n",
       "4    other    41   0\n",
       "..     ...   ...  ..\n",
       "855  other     2   1\n",
       "856  other    11   0\n",
       "857  other     1   1\n",
       "858  other   100   0\n",
       "859  other     1   1\n",
       "\n",
       "[860 rows x 3 columns]"
      ]
     },
     "execution_count": 119,
     "metadata": {},
     "output_type": "execute_result"
    }
   ],
   "source": [
    "# leave = 1 则计算leave的Transition Probability\n",
    "# df['St'] = df['St'].replace({'leave home': 1, 'enter home': 0})\n",
    "df['St'] = df['St'].replace({'leave home': 0, 'enter home': 1})\n",
    "df"
   ]
  },
  {
   "cell_type": "code",
   "execution_count": 120,
   "metadata": {},
   "outputs": [
    {
     "name": "stdout",
     "output_type": "stream",
     "text": [
      "43.12093023255814\n"
     ]
    },
    {
     "data": {
      "text/html": [
       "<div>\n",
       "<style scoped>\n",
       "    .dataframe tbody tr th:only-of-type {\n",
       "        vertical-align: middle;\n",
       "    }\n",
       "\n",
       "    .dataframe tbody tr th {\n",
       "        vertical-align: top;\n",
       "    }\n",
       "\n",
       "    .dataframe thead th {\n",
       "        text-align: right;\n",
       "    }\n",
       "</style>\n",
       "<table border=\"1\" class=\"dataframe\">\n",
       "  <thead>\n",
       "    <tr style=\"text-align: right;\">\n",
       "      <th></th>\n",
       "      <th>St-1</th>\n",
       "      <th>Lt-1</th>\n",
       "      <th>St</th>\n",
       "      <th>Lt-1 - L_mean</th>\n",
       "      <th>St - P_mean</th>\n",
       "      <th>product</th>\n",
       "      <th>square</th>\n",
       "    </tr>\n",
       "  </thead>\n",
       "  <tbody>\n",
       "    <tr>\n",
       "      <th>0</th>\n",
       "      <td>other</td>\n",
       "      <td>100</td>\n",
       "      <td>0</td>\n",
       "      <td>56.87907</td>\n",
       "      <td>-0.5</td>\n",
       "      <td>-28.439535</td>\n",
       "      <td>3235.228578</td>\n",
       "    </tr>\n",
       "    <tr>\n",
       "      <th>1</th>\n",
       "      <td>other</td>\n",
       "      <td>1</td>\n",
       "      <td>1</td>\n",
       "      <td>-42.12093</td>\n",
       "      <td>0.5</td>\n",
       "      <td>-21.060465</td>\n",
       "      <td>1774.172764</td>\n",
       "    </tr>\n",
       "    <tr>\n",
       "      <th>2</th>\n",
       "      <td>other</td>\n",
       "      <td>10</td>\n",
       "      <td>0</td>\n",
       "      <td>-33.12093</td>\n",
       "      <td>-0.5</td>\n",
       "      <td>16.560465</td>\n",
       "      <td>1096.996019</td>\n",
       "    </tr>\n",
       "    <tr>\n",
       "      <th>3</th>\n",
       "      <td>other</td>\n",
       "      <td>1</td>\n",
       "      <td>1</td>\n",
       "      <td>-42.12093</td>\n",
       "      <td>0.5</td>\n",
       "      <td>-21.060465</td>\n",
       "      <td>1774.172764</td>\n",
       "    </tr>\n",
       "    <tr>\n",
       "      <th>4</th>\n",
       "      <td>other</td>\n",
       "      <td>41</td>\n",
       "      <td>0</td>\n",
       "      <td>-2.12093</td>\n",
       "      <td>-0.5</td>\n",
       "      <td>1.060465</td>\n",
       "      <td>4.498345</td>\n",
       "    </tr>\n",
       "    <tr>\n",
       "      <th>...</th>\n",
       "      <td>...</td>\n",
       "      <td>...</td>\n",
       "      <td>...</td>\n",
       "      <td>...</td>\n",
       "      <td>...</td>\n",
       "      <td>...</td>\n",
       "      <td>...</td>\n",
       "    </tr>\n",
       "    <tr>\n",
       "      <th>855</th>\n",
       "      <td>other</td>\n",
       "      <td>2</td>\n",
       "      <td>1</td>\n",
       "      <td>-41.12093</td>\n",
       "      <td>0.5</td>\n",
       "      <td>-20.560465</td>\n",
       "      <td>1690.930903</td>\n",
       "    </tr>\n",
       "    <tr>\n",
       "      <th>856</th>\n",
       "      <td>other</td>\n",
       "      <td>11</td>\n",
       "      <td>0</td>\n",
       "      <td>-32.12093</td>\n",
       "      <td>-0.5</td>\n",
       "      <td>16.060465</td>\n",
       "      <td>1031.754159</td>\n",
       "    </tr>\n",
       "    <tr>\n",
       "      <th>857</th>\n",
       "      <td>other</td>\n",
       "      <td>1</td>\n",
       "      <td>1</td>\n",
       "      <td>-42.12093</td>\n",
       "      <td>0.5</td>\n",
       "      <td>-21.060465</td>\n",
       "      <td>1774.172764</td>\n",
       "    </tr>\n",
       "    <tr>\n",
       "      <th>858</th>\n",
       "      <td>other</td>\n",
       "      <td>100</td>\n",
       "      <td>0</td>\n",
       "      <td>56.87907</td>\n",
       "      <td>-0.5</td>\n",
       "      <td>-28.439535</td>\n",
       "      <td>3235.228578</td>\n",
       "    </tr>\n",
       "    <tr>\n",
       "      <th>859</th>\n",
       "      <td>other</td>\n",
       "      <td>1</td>\n",
       "      <td>1</td>\n",
       "      <td>-42.12093</td>\n",
       "      <td>0.5</td>\n",
       "      <td>-21.060465</td>\n",
       "      <td>1774.172764</td>\n",
       "    </tr>\n",
       "  </tbody>\n",
       "</table>\n",
       "<p>860 rows × 7 columns</p>\n",
       "</div>"
      ],
      "text/plain": [
       "      St-1  Lt-1  St  Lt-1 - L_mean  St - P_mean    product       square\n",
       "0    other   100   0       56.87907         -0.5 -28.439535  3235.228578\n",
       "1    other     1   1      -42.12093          0.5 -21.060465  1774.172764\n",
       "2    other    10   0      -33.12093         -0.5  16.560465  1096.996019\n",
       "3    other     1   1      -42.12093          0.5 -21.060465  1774.172764\n",
       "4    other    41   0       -2.12093         -0.5   1.060465     4.498345\n",
       "..     ...   ...  ..            ...          ...        ...          ...\n",
       "855  other     2   1      -41.12093          0.5 -20.560465  1690.930903\n",
       "856  other    11   0      -32.12093         -0.5  16.060465  1031.754159\n",
       "857  other     1   1      -42.12093          0.5 -21.060465  1774.172764\n",
       "858  other   100   0       56.87907         -0.5 -28.439535  3235.228578\n",
       "859  other     1   1      -42.12093          0.5 -21.060465  1774.172764\n",
       "\n",
       "[860 rows x 7 columns]"
      ]
     },
     "execution_count": 120,
     "metadata": {},
     "output_type": "execute_result"
    }
   ],
   "source": [
    "L_mean = df['Lt-1'].sum()/860\n",
    "print(L_mean)\n",
    "P_mean = 0.5\n",
    "\n",
    "# each value minus the mean\n",
    "df['Lt-1 - L_mean'] = df['Lt-1'] - L_mean\n",
    "df['St - P_mean'] = df['St'] - P_mean\n",
    "df['product'] = df['Lt-1 - L_mean'] * df['St - P_mean']\n",
    "df['square'] = df['Lt-1 - L_mean']**2\n",
    "df"
   ]
  },
  {
   "cell_type": "code",
   "execution_count": 121,
   "metadata": {},
   "outputs": [
    {
     "data": {
      "text/plain": [
       "-0.009833635732615876"
      ]
     },
     "execution_count": 121,
     "metadata": {},
     "output_type": "execute_result"
    }
   ],
   "source": [
    "alpha = df['product'].sum()/df['square'].sum()\n",
    "alpha"
   ]
  },
  {
   "cell_type": "code",
   "execution_count": 122,
   "metadata": {},
   "outputs": [
    {
     "data": {
      "text/plain": [
       "0.92403552035852"
      ]
     },
     "execution_count": 122,
     "metadata": {},
     "output_type": "execute_result"
    }
   ],
   "source": [
    "beta = P_mean - alpha * L_mean\n",
    "beta"
   ]
  },
  {
   "cell_type": "code",
   "execution_count": 115,
   "metadata": {},
   "outputs": [
    {
     "data": {
      "text/plain": [
       "0      1.059328\n",
       "1      0.085798\n",
       "2      0.174301\n",
       "3      0.085798\n",
       "4      0.479144\n",
       "         ...   \n",
       "855    0.095632\n",
       "856    0.184134\n",
       "857    0.085798\n",
       "858    1.059328\n",
       "859    0.085798\n",
       "Name: Lt-1, Length: 860, dtype: float64"
      ]
     },
     "execution_count": 115,
     "metadata": {},
     "output_type": "execute_result"
    }
   ],
   "source": [
    "# P_LEAVE = 0.00983 * df['Lt-1'] + 0.07596\n",
    "# P_ENTER = -0.00983 * df['Lt-1'] + 0.92404"
   ]
  },
  {
   "cell_type": "code",
   "execution_count": null,
   "metadata": {},
   "outputs": [
    {
     "data": {
      "image/png": "[encoded data removed]",
      "text/plain": [
       "<Figure size 1000x600 with 1 Axes>"
      ]
     },
     "metadata": {},
     "output_type": "display_data"
    }
   ],
   "source": [
    "x[x < 0.2] = np.nan\n",
    "\n",
    "activity8 = [i for i in range(np.size(y)) if y[i] == '8']\n",
    "activity9 = [i for i in range(np.size(y)) if y[i] == '9']\n",
    "\n",
    "# Calculate non-NaN counts for activity8 (leave home) and activity9 (enter home)\n",
    "not_nan_counts_leave = [np.sum(~np.isnan(x[activity8[i] - 1])) for i in range(min(430, len(activity8)))]\n",
    "not_nan_counts_enter = [np.sum(~np.isnan(x[activity9[i] - 1])) for i in range(min(430, len(activity9)))]\n",
    "\n",
    "# Create scatter plot to intuitively represent the lengths\n",
    "plt.figure(figsize=(10, 6))\n",
    "plt.scatter(range(len(not_nan_counts_leave)), not_nan_counts_leave, label=\"Before Leave Home\", alpha=0.7, marker='o')\n",
    "plt.scatter(range(len(not_nan_counts_enter)), not_nan_counts_enter, label=\"Before Enter Home\", alpha=0.7, marker='x')\n",
    "\n",
    "plt.title(\"Length of Activities Before 'Enter Home' and 'Leave Home'\", fontsize=14)\n",
    "plt.xlabel(\"Index\", fontsize=12)\n",
    "plt.ylabel(\"Activity Length\", fontsize=12)\n",
    "plt.legend(fontsize=12)\n",
    "plt.grid(True, linestyle='--', alpha=0.6)\n",
    "\n",
    "plt.savefig('enter_leave.svg')\n",
    "plt.show()"
   ]
  }
 ],
 "metadata": {
  "kernelspec": {
   "display_name": "Python 3.10 (tensorflow)",
   "language": "python",
   "name": "tensorflow"
  },
  "language_info": {
   "codemirror_mode": {
    "name": "ipython",
    "version": 3
   },
   "file_extension": ".py",
   "mimetype": "text/x-python",
   "name": "python",
   "nbconvert_exporter": "python",
   "pygments_lexer": "ipython3",
   "version": "3.9.15"
  }
 },
 "nbformat": 4,
 "nbformat_minor": 2
}
